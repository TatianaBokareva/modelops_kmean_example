{
 "cells": [
  {
   "cell_type": "code",
   "execution_count": null,
   "id": "d46d253f-a194-4249-9ae2-cc816e6300c2",
   "metadata": {},
   "outputs": [],
   "source": [
    "!pip install sklearn2pmml"
   ]
  },
  {
   "cell_type": "code",
   "execution_count": null,
   "id": "3debb9da-9b8f-4f03-90ff-f0e4c724fbce",
   "metadata": {
    "tags": []
   },
   "outputs": [],
   "source": [
    "!pip install --upgrade SQLAlchemy"
   ]
  },
  {
   "cell_type": "code",
   "execution_count": 125,
   "id": "cfd3346d-103d-428a-9bd1-5896c7fdefc7",
   "metadata": {
    "tags": []
   },
   "outputs": [],
   "source": [
    "import pandas as pd\n",
    "\n",
    "import matplotlib.pyplot as plt\n",
    "import aoa\n",
    "\n",
    "import teradataml as tdml\n",
    "from teradataml import *\n",
    "\n",
    "import getpass\n",
    "\n",
    "tdml.options.configure.val_install_location = \"val\"\n",
    "import warnings\n",
    "warnings.filterwarnings('ignore')"
   ]
  },
  {
   "cell_type": "code",
   "execution_count": 126,
   "id": "79156715-0a13-4f87-a0f6-83e1cec4bcb1",
   "metadata": {
    "tags": []
   },
   "outputs": [],
   "source": [
    "engine = create_context(\n",
    "    host=\"demo-june-2024-03p9jzrz3oc8j7qv.env.clearscape.teradata.com\"\n",
    "    , username=\"demo_user\"\n",
    "    , password=\"demo_user\")"
   ]
  },
  {
   "cell_type": "markdown",
   "id": "eada202d-0c62-44fb-9276-c30c49097df3",
   "metadata": {},
   "source": [
    "### Load the data for the demo if it does not exists"
   ]
  },
  {
   "cell_type": "code",
   "execution_count": 117,
   "id": "9ed8b2d9-378e-4615-8595-3367046660ca",
   "metadata": {
    "tags": []
   },
   "outputs": [],
   "source": [
    "df = pd.read_csv('Iris.csv')"
   ]
  },
  {
   "cell_type": "code",
   "execution_count": null,
   "id": "a4f2dae5-5107-4881-8f11-54fdbd51c444",
   "metadata": {},
   "outputs": [],
   "source": [
    "#copy_to_sql(df = df, table_name = 'iris_v1', if_exists='replace')\n",
    "fastload(df = df, table_name = 'iris', if_exists='replace')"
   ]
  },
  {
   "cell_type": "code",
   "execution_count": 14,
   "id": "4e18ddd2-179f-44ad-84ba-2f372e6bf3d4",
   "metadata": {
    "tags": []
   },
   "outputs": [
    {
     "data": {
      "text/html": [
       "<style type=\"text/css\">\n",
       "\ttable {border:ridge 5px;}\n",
       "\ttable td {border:inset 1px;}\n",
       "\ttable tr#HeaderRow {background-color:grey; color:white;}</style>\n",
       "<html><table>\n",
       "\t<tr id=\"HeaderRow\">\n",
       "\t\t<th>id</th>\n",
       "\t\t<th>sepal_length</th>\n",
       "\t\t<th>sepal_width</th>\n",
       "\t\t<th>petal_length</th>\n",
       "\t\t<th>petal_width</th>\n",
       "\t\t<th>species</th>\n",
       "\t</tr>\n",
       "\t<tr>\n",
       "\t\t<td>3</td>\n",
       "\t\t<td>4.7</td>\n",
       "\t\t<td>3.2</td>\n",
       "\t\t<td>1.3</td>\n",
       "\t\t<td>0.2</td>\n",
       "\t\t<td>Iris-setosa</td>\n",
       "\t</tr>\n",
       "\t<tr>\n",
       "\t\t<td>5</td>\n",
       "\t\t<td>5.0</td>\n",
       "\t\t<td>3.6</td>\n",
       "\t\t<td>1.4</td>\n",
       "\t\t<td>0.2</td>\n",
       "\t\t<td>Iris-setosa</td>\n",
       "\t</tr>\n",
       "\t<tr>\n",
       "\t\t<td>6</td>\n",
       "\t\t<td>5.4</td>\n",
       "\t\t<td>3.9</td>\n",
       "\t\t<td>1.7</td>\n",
       "\t\t<td>0.4</td>\n",
       "\t\t<td>Iris-setosa</td>\n",
       "\t</tr>\n",
       "\t<tr>\n",
       "\t\t<td>7</td>\n",
       "\t\t<td>4.6</td>\n",
       "\t\t<td>3.4</td>\n",
       "\t\t<td>1.4</td>\n",
       "\t\t<td>0.3</td>\n",
       "\t\t<td>Iris-setosa</td>\n",
       "\t</tr>\n",
       "\t<tr>\n",
       "\t\t<td>9</td>\n",
       "\t\t<td>4.4</td>\n",
       "\t\t<td>2.9</td>\n",
       "\t\t<td>1.4</td>\n",
       "\t\t<td>0.2</td>\n",
       "\t\t<td>Iris-setosa</td>\n",
       "\t</tr>\n",
       "\t<tr>\n",
       "\t\t<td>10</td>\n",
       "\t\t<td>4.9</td>\n",
       "\t\t<td>3.1</td>\n",
       "\t\t<td>1.5</td>\n",
       "\t\t<td>0.1</td>\n",
       "\t\t<td>Iris-setosa</td>\n",
       "\t</tr>\n",
       "\t<tr>\n",
       "\t\t<td>8</td>\n",
       "\t\t<td>5.0</td>\n",
       "\t\t<td>3.4</td>\n",
       "\t\t<td>1.5</td>\n",
       "\t\t<td>0.2</td>\n",
       "\t\t<td>Iris-setosa</td>\n",
       "\t</tr>\n",
       "\t<tr>\n",
       "\t\t<td>4</td>\n",
       "\t\t<td>4.6</td>\n",
       "\t\t<td>3.1</td>\n",
       "\t\t<td>1.5</td>\n",
       "\t\t<td>0.2</td>\n",
       "\t\t<td>Iris-setosa</td>\n",
       "\t</tr>\n",
       "\t<tr>\n",
       "\t\t<td>2</td>\n",
       "\t\t<td>4.9</td>\n",
       "\t\t<td>3.0</td>\n",
       "\t\t<td>1.4</td>\n",
       "\t\t<td>0.2</td>\n",
       "\t\t<td>Iris-setosa</td>\n",
       "\t</tr>\n",
       "\t<tr>\n",
       "\t\t<td>1</td>\n",
       "\t\t<td>5.1</td>\n",
       "\t\t<td>3.5</td>\n",
       "\t\t<td>1.4</td>\n",
       "\t\t<td>0.2</td>\n",
       "\t\t<td>Iris-setosa</td>\n",
       "\t</tr>\n",
       "</table></html>"
      ],
      "text/plain": [
       "   id  sepal_length  sepal_width  petal_length  petal_width      species\n",
       "0   3           4.7          3.2           1.3          0.2  Iris-setosa\n",
       "1   5           5.0          3.6           1.4          0.2  Iris-setosa\n",
       "2   6           5.4          3.9           1.7          0.4  Iris-setosa\n",
       "3   7           4.6          3.4           1.4          0.3  Iris-setosa\n",
       "4   9           4.4          2.9           1.4          0.2  Iris-setosa\n",
       "5  10           4.9          3.1           1.5          0.1  Iris-setosa\n",
       "6   8           5.0          3.4           1.5          0.2  Iris-setosa\n",
       "7   4           4.6          3.1           1.5          0.2  Iris-setosa\n",
       "8   2           4.9          3.0           1.4          0.2  Iris-setosa\n",
       "9   1           5.1          3.5           1.4          0.2  Iris-setosa"
      ]
     },
     "execution_count": 14,
     "metadata": {},
     "output_type": "execute_result"
    }
   ],
   "source": [
    "tdf = DataFrame('iris')\n",
    "tdf.head()"
   ]
  },
  {
   "cell_type": "markdown",
   "id": "d6fd0ea0-de51-45d8-b263-7603a9887f27",
   "metadata": {},
   "source": [
    "### Set up for modelOPS"
   ]
  },
  {
   "cell_type": "code",
   "execution_count": 8,
   "id": "62e6c03e-1998-4434-bcca-14ebcb5d3c6d",
   "metadata": {},
   "outputs": [],
   "source": [
    "query = '''CREATE SET TABLE byom_models \n",
    "     (\n",
    "      model_version VARCHAR(255) CHARACTER SET LATIN NOT CASESPECIFIC,\n",
    "      model_id VARCHAR(255) CHARACTER SET LATIN NOT CASESPECIFIC,\n",
    "      model_type VARCHAR(255) CHARACTER SET LATIN NOT CASESPECIFIC,\n",
    "      project_id VARCHAR(255) CHARACTER SET LATIN NOT CASESPECIFIC,\n",
    "      deployed_at TIMESTAMP(6) DEFAULT CURRENT_TIMESTAMP(6),\n",
    "      model BLOB(2097088000))\n",
    "UNIQUE PRIMARY INDEX ( model_version );\n",
    "'''\n",
    "\n",
    "try:\n",
    "    execute_sql(query)\n",
    "except:\n",
    "    db_drop_table('byom_models')\n",
    "    execute_sql(query)"
   ]
  },
  {
   "cell_type": "code",
   "execution_count": 9,
   "id": "12761a7c-45c2-4c6e-a61c-e0d615bcae37",
   "metadata": {
    "tags": []
   },
   "outputs": [
    {
     "data": {
      "text/html": [
       "<style type=\"text/css\">\n",
       "\ttable {border:ridge 5px;}\n",
       "\ttable td {border:inset 1px;}\n",
       "\ttable tr#HeaderRow {background-color:grey; color:white;}</style>\n",
       "<html><table>\n",
       "\t<tr id=\"HeaderRow\">\n",
       "\t\t<th>model_version</th>\n",
       "\t\t<th>model_id</th>\n",
       "\t\t<th>model_type</th>\n",
       "\t\t<th>project_id</th>\n",
       "\t\t<th>deployed_at</th>\n",
       "\t\t<th>model</th>\n",
       "\t</tr>\n",
       "</table></html>"
      ],
      "text/plain": [
       "Empty DataFrame\n",
       "Columns: [model_id, model_type, project_id, deployed_at, model]\n",
       "Index: []"
      ]
     },
     "execution_count": 9,
     "metadata": {},
     "output_type": "execute_result"
    }
   ],
   "source": [
    "DataFrame('byom_models')"
   ]
  },
  {
   "cell_type": "code",
   "execution_count": 11,
   "id": "f922e985-b854-4ce6-b43a-66594358338f",
   "metadata": {},
   "outputs": [],
   "source": [
    "#ddl for PPredictions\n",
    "query = '''CREATE MULTISET TABLE kmean_predictions \n",
    "     (\n",
    "      job_id VARCHAR(255) CHARACTER SET LATIN NOT CASESPECIFIC,\n",
    "      CustomerID BIGINT,\n",
    "      td_clusterid_kmeans INTEGER,\n",
    "      json_report CLOB(1048544000) CHARACTER SET LATIN)\n",
    "PRIMARY INDEX ( job_id );;\n",
    "'''\n",
    "\n",
    "try:\n",
    "    execute_sql(query)\n",
    "except:\n",
    "    db_drop_table('kmean_predictions')\n",
    "    execute_sql(query)"
   ]
  },
  {
   "cell_type": "code",
   "execution_count": 12,
   "id": "a6f57045-25fe-4dd6-a217-81ef0199cf2d",
   "metadata": {
    "tags": []
   },
   "outputs": [
    {
     "data": {
      "text/html": [
       "<style type=\"text/css\">\n",
       "\ttable {border:ridge 5px;}\n",
       "\ttable td {border:inset 1px;}\n",
       "\ttable tr#HeaderRow {background-color:grey; color:white;}</style>\n",
       "<html><table>\n",
       "\t<tr id=\"HeaderRow\">\n",
       "\t\t<th>job_id</th>\n",
       "\t\t<th>CustomerID</th>\n",
       "\t\t<th>td_clusterid_kmeans</th>\n",
       "\t\t<th>json_report</th>\n",
       "\t</tr>\n",
       "</table></html>"
      ],
      "text/plain": [
       "Empty DataFrame\n",
       "Columns: [CustomerID, td_clusterid_kmeans, json_report]\n",
       "Index: []"
      ]
     },
     "execution_count": 12,
     "metadata": {},
     "output_type": "execute_result"
    }
   ],
   "source": [
    "DataFrame('kmean_predictions')"
   ]
  },
  {
   "cell_type": "code",
   "execution_count": 21,
   "id": "1b89bb5b-42d0-4d91-8908-d2d3e18cafc0",
   "metadata": {
    "tags": []
   },
   "outputs": [],
   "source": [
    "gry = '''CREATE MULTISET TABLE iris_feature_metadata ,FALLBACK ,\n",
    "     NO BEFORE JOURNAL,\n",
    "     NO AFTER JOURNAL,\n",
    "     CHECKSUM = DEFAULT,\n",
    "     DEFAULT MERGEBLOCKRATIO,\n",
    "     MAP = TD_MAP1\n",
    "     (\n",
    "      column_name VARCHAR(1024) CHARACTER SET UNICODE NOT CASESPECIFIC,\n",
    "      column_type VARCHAR(1024) CHARACTER SET UNICODE NOT CASESPECIFIC,\n",
    "      stats VARCHAR(1024) CHARACTER SET UNICODE NOT CASESPECIFIC,\n",
    "      update_ts VARCHAR(1024) CHARACTER SET UNICODE NOT CASESPECIFIC)\n",
    "PRIMARY INDEX(column_name) ;'''\n",
    "\n",
    "try:\n",
    "    execute_sql(gry)\n",
    "except:\n",
    "    db_drop_table('iris_feature_metadata')\n",
    "    execute_sql(gry)"
   ]
  },
  {
   "cell_type": "code",
   "execution_count": 22,
   "id": "c7799252-2dc4-4088-a967-95275c609f75",
   "metadata": {
    "tags": []
   },
   "outputs": [
    {
     "data": {
      "text/html": [
       "<style type=\"text/css\">\n",
       "\ttable {border:ridge 5px;}\n",
       "\ttable td {border:inset 1px;}\n",
       "\ttable tr#HeaderRow {background-color:grey; color:white;}</style>\n",
       "<html><table>\n",
       "\t<tr id=\"HeaderRow\">\n",
       "\t\t<th>column_name</th>\n",
       "\t\t<th>column_type</th>\n",
       "\t\t<th>stats</th>\n",
       "\t\t<th>update_ts</th>\n",
       "\t</tr>\n",
       "</table></html>"
      ],
      "text/plain": [
       "Empty DataFrame\n",
       "Columns: [column_type, stats, update_ts]\n",
       "Index: []"
      ]
     },
     "execution_count": 22,
     "metadata": {},
     "output_type": "execute_result"
    }
   ],
   "source": [
    "DataFrame('iris_feature_metadata')"
   ]
  },
  {
   "cell_type": "markdown",
   "id": "95dc0816-c154-43b7-96d2-6ef995e11e55",
   "metadata": {},
   "source": [
    "### Method that populates statistic table"
   ]
  },
  {
   "cell_type": "code",
   "execution_count": 23,
   "id": "bc53d839-9a39-4ab9-a48e-d802e0fb5c6f",
   "metadata": {},
   "outputs": [
    {
     "name": "stdout",
     "output_type": "stream",
     "text": [
      "Compute statistics for continuous variables :  ['sepal_length', 'sepal_width', 'petal_length', 'petal_width']\n",
      "Compute statistics for categorical variables :  []\n"
     ]
    }
   ],
   "source": [
    "continuous_features = ['sepal_length','sepal_width','petal_length','petal_width']\n",
    "categorical_features = []\n",
    "schema_name=\"demo_user\"\n",
    "table_name =\"iris\"\n",
    "metadata_table = 'iris_feature_metadata'\n",
    "\n",
    "# Compute statistics for continuous variables\n",
    "print('Compute statistics for continuous variables : ',continuous_features)\n",
    "if len(continuous_features)>0 :\n",
    "        features_df = tdml.DataFrame(tdml.in_schema(schema_name, table_name))\n",
    "        fs = aoa.compute_continuous_stats(\n",
    "            features_df         = features_df,\n",
    "            continuous_features = [c.lower() for c in continuous_features]\n",
    "        )\n",
    "        aoa.stats.store.save_feature_stats(\n",
    "            features_table      = metadata_table,\n",
    "            feature_type        = \"continuous\",\n",
    "            stats               = fs\n",
    "        )\n",
    "        \n",
    "# Compute statistics for categorical variables\n",
    "print('Compute statistics for categorical variables : ',categorical_features)\n",
    "if len(categorical_features)>0:\n",
    "        features_df = tdml.DataFrame(tdml.in_schema(schema_name, table_name))\n",
    "        fs = aoa.compute_categorical_stats(\n",
    "            features_df          = features_df,\n",
    "            categorical_features = [c.lower() for c in categorical_features]\n",
    "        )\n",
    "        aoa.stats.store.save_feature_stats(\n",
    "            features_table = metadata_table,\n",
    "            feature_type   = \"categorical\",\n",
    "            stats          = fs\n",
    "        )"
   ]
  },
  {
   "cell_type": "code",
   "execution_count": 127,
   "id": "b2e3b9f1-e72e-43a5-a2b4-ce8a4bf9b475",
   "metadata": {
    "tags": []
   },
   "outputs": [
    {
     "data": {
      "text/html": [
       "<style type=\"text/css\">\n",
       "\ttable {border:ridge 5px;}\n",
       "\ttable td {border:inset 1px;}\n",
       "\ttable tr#HeaderRow {background-color:grey; color:white;}</style>\n",
       "<html><table>\n",
       "\t<tr id=\"HeaderRow\">\n",
       "\t\t<th>column_name</th>\n",
       "\t\t<th>column_type</th>\n",
       "\t\t<th>stats</th>\n",
       "\t\t<th>update_ts</th>\n",
       "\t</tr>\n",
       "\t<tr>\n",
       "\t\t<td>sepal_length</td>\n",
       "\t\t<td>continuous</td>\n",
       "\t\t<td>{\"edges\": [4.3, 4.66, 5.02, 5.38, 5.74, 6.1, 6.46, 6.82, 7.18, 7.54, 7.9]}</td>\n",
       "\t\t<td>2024-06-24 21:40:46.000000-04:00</td>\n",
       "\t</tr>\n",
       "\t<tr>\n",
       "\t\t<td>petal_length</td>\n",
       "\t\t<td>continuous</td>\n",
       "\t\t<td>{\"edges\": [1.0, 1.59, 2.18, 2.77, 3.36, 3.95, 4.54, 5.13, 5.72, 6.31, 6.9]}</td>\n",
       "\t\t<td>2024-06-24 21:40:46.000000-04:00</td>\n",
       "\t</tr>\n",
       "\t<tr>\n",
       "\t\t<td>sepal_width</td>\n",
       "\t\t<td>continuous</td>\n",
       "\t\t<td>{\"edges\": [2.0, 2.24, 2.48, 2.72, 2.96, 3.2, 3.44, 3.68, 3.92, 4.16, 4.41]}</td>\n",
       "\t\t<td>2024-06-24 21:40:46.000000-04:00</td>\n",
       "\t</tr>\n",
       "\t<tr>\n",
       "\t\t<td>petal_width</td>\n",
       "\t\t<td>continuous</td>\n",
       "\t\t<td>{\"edges\": [0.1, 0.34, 0.58, 0.82, 1.06, 1.3, 1.54, 1.78, 2.02, 2.26, 2.5]}</td>\n",
       "\t\t<td>2024-06-24 21:40:46.000000-04:00</td>\n",
       "\t</tr>\n",
       "</table></html>"
      ],
      "text/plain": [
       "             column_type                                                                        stats                         update_ts\n",
       "column_name                                                                                                                            \n",
       "sepal_length  continuous   {\"edges\": [4.3, 4.66, 5.02, 5.38, 5.74, 6.1, 6.46, 6.82, 7.18, 7.54, 7.9]}  2024-06-24 21:40:46.000000-04:00\n",
       "petal_length  continuous  {\"edges\": [1.0, 1.59, 2.18, 2.77, 3.36, 3.95, 4.54, 5.13, 5.72, 6.31, 6.9]}  2024-06-24 21:40:46.000000-04:00\n",
       "sepal_width   continuous  {\"edges\": [2.0, 2.24, 2.48, 2.72, 2.96, 3.2, 3.44, 3.68, 3.92, 4.16, 4.41]}  2024-06-24 21:40:46.000000-04:00\n",
       "petal_width   continuous   {\"edges\": [0.1, 0.34, 0.58, 0.82, 1.06, 1.3, 1.54, 1.78, 2.02, 2.26, 2.5]}  2024-06-24 21:40:46.000000-04:00"
      ]
     },
     "execution_count": 127,
     "metadata": {},
     "output_type": "execute_result"
    }
   ],
   "source": [
    "DataFrame(metadata_table)"
   ]
  },
  {
   "cell_type": "markdown",
   "id": "3592e539-6cfc-443c-854c-61af2942fa19",
   "metadata": {},
   "source": [
    "### Train Kmeans in database"
   ]
  },
  {
   "cell_type": "code",
   "execution_count": 26,
   "id": "ea718a4d-4880-4d5c-b88e-60c839d27f00",
   "metadata": {},
   "outputs": [],
   "source": [
    "KMeans_out = KMeans(id_column=\"id\"\n",
    "                          ,target_columns=['sepal_length','sepal_width','petal_length','petal_width']\n",
    "                          ,data=tdf\n",
    "                         ,num_clusters = 3)"
   ]
  },
  {
   "cell_type": "code",
   "execution_count": 27,
   "id": "1e5a5ed3-d297-4815-8003-49c4a497cb67",
   "metadata": {},
   "outputs": [
    {
     "data": {
      "text/html": [
       "<div>\n",
       "<style scoped>\n",
       "    .dataframe tbody tr th:only-of-type {\n",
       "        vertical-align: middle;\n",
       "    }\n",
       "\n",
       "    .dataframe tbody tr th {\n",
       "        vertical-align: top;\n",
       "    }\n",
       "\n",
       "    .dataframe thead th {\n",
       "        text-align: right;\n",
       "    }\n",
       "</style>\n",
       "<table border=\"1\" class=\"dataframe\">\n",
       "  <thead>\n",
       "    <tr style=\"text-align: right;\">\n",
       "      <th></th>\n",
       "      <th>td_clusterid_kmeans</th>\n",
       "      <th>sepal_length</th>\n",
       "      <th>sepal_width</th>\n",
       "      <th>petal_length</th>\n",
       "      <th>petal_width</th>\n",
       "      <th>td_size_kmeans</th>\n",
       "      <th>td_withinss_kmeans</th>\n",
       "      <th>id</th>\n",
       "      <th>td_modelinfo_kmeans</th>\n",
       "    </tr>\n",
       "  </thead>\n",
       "  <tbody>\n",
       "    <tr>\n",
       "      <th>0</th>\n",
       "      <td>0.0</td>\n",
       "      <td>5.216667</td>\n",
       "      <td>3.640000</td>\n",
       "      <td>1.473333</td>\n",
       "      <td>0.280000</td>\n",
       "      <td>30.0</td>\n",
       "      <td>5.660333</td>\n",
       "      <td>None</td>\n",
       "      <td>None</td>\n",
       "    </tr>\n",
       "    <tr>\n",
       "      <th>1</th>\n",
       "      <td>1.0</td>\n",
       "      <td>6.314583</td>\n",
       "      <td>2.895833</td>\n",
       "      <td>4.973958</td>\n",
       "      <td>1.703125</td>\n",
       "      <td>96.0</td>\n",
       "      <td>118.651875</td>\n",
       "      <td>None</td>\n",
       "      <td>None</td>\n",
       "    </tr>\n",
       "    <tr>\n",
       "      <th>2</th>\n",
       "      <td>2.0</td>\n",
       "      <td>4.741667</td>\n",
       "      <td>2.954167</td>\n",
       "      <td>1.754167</td>\n",
       "      <td>0.329167</td>\n",
       "      <td>24.0</td>\n",
       "      <td>18.547083</td>\n",
       "      <td>None</td>\n",
       "      <td>None</td>\n",
       "    </tr>\n",
       "    <tr>\n",
       "      <th>3</th>\n",
       "      <td>NaN</td>\n",
       "      <td>NaN</td>\n",
       "      <td>NaN</td>\n",
       "      <td>NaN</td>\n",
       "      <td>NaN</td>\n",
       "      <td>NaN</td>\n",
       "      <td>NaN</td>\n",
       "      <td>None</td>\n",
       "      <td>Converged : True</td>\n",
       "    </tr>\n",
       "    <tr>\n",
       "      <th>4</th>\n",
       "      <td>NaN</td>\n",
       "      <td>NaN</td>\n",
       "      <td>NaN</td>\n",
       "      <td>NaN</td>\n",
       "      <td>NaN</td>\n",
       "      <td>NaN</td>\n",
       "      <td>NaN</td>\n",
       "      <td>None</td>\n",
       "      <td>Number of Iterations : 4</td>\n",
       "    </tr>\n",
       "    <tr>\n",
       "      <th>5</th>\n",
       "      <td>NaN</td>\n",
       "      <td>NaN</td>\n",
       "      <td>NaN</td>\n",
       "      <td>NaN</td>\n",
       "      <td>NaN</td>\n",
       "      <td>NaN</td>\n",
       "      <td>NaN</td>\n",
       "      <td>None</td>\n",
       "      <td>Number of Clusters : 3</td>\n",
       "    </tr>\n",
       "    <tr>\n",
       "      <th>6</th>\n",
       "      <td>NaN</td>\n",
       "      <td>NaN</td>\n",
       "      <td>NaN</td>\n",
       "      <td>NaN</td>\n",
       "      <td>NaN</td>\n",
       "      <td>NaN</td>\n",
       "      <td>NaN</td>\n",
       "      <td>None</td>\n",
       "      <td>Total_WithinSS : 1.42859291666663E+02</td>\n",
       "    </tr>\n",
       "    <tr>\n",
       "      <th>7</th>\n",
       "      <td>NaN</td>\n",
       "      <td>NaN</td>\n",
       "      <td>NaN</td>\n",
       "      <td>NaN</td>\n",
       "      <td>NaN</td>\n",
       "      <td>NaN</td>\n",
       "      <td>NaN</td>\n",
       "      <td>None</td>\n",
       "      <td>Between_SS : 5.37965108333333E+02</td>\n",
       "    </tr>\n",
       "    <tr>\n",
       "      <th>8</th>\n",
       "      <td>NaN</td>\n",
       "      <td>NaN</td>\n",
       "      <td>NaN</td>\n",
       "      <td>NaN</td>\n",
       "      <td>NaN</td>\n",
       "      <td>NaN</td>\n",
       "      <td>NaN</td>\n",
       "      <td>None</td>\n",
       "      <td>Method for InitialCentroids : Random</td>\n",
       "    </tr>\n",
       "  </tbody>\n",
       "</table>\n",
       "</div>"
      ],
      "text/plain": [
       "   td_clusterid_kmeans  sepal_length  sepal_width  petal_length  petal_width  \\\n",
       "0                  0.0      5.216667     3.640000      1.473333     0.280000   \n",
       "1                  1.0      6.314583     2.895833      4.973958     1.703125   \n",
       "2                  2.0      4.741667     2.954167      1.754167     0.329167   \n",
       "3                  NaN           NaN          NaN           NaN          NaN   \n",
       "4                  NaN           NaN          NaN           NaN          NaN   \n",
       "5                  NaN           NaN          NaN           NaN          NaN   \n",
       "6                  NaN           NaN          NaN           NaN          NaN   \n",
       "7                  NaN           NaN          NaN           NaN          NaN   \n",
       "8                  NaN           NaN          NaN           NaN          NaN   \n",
       "\n",
       "   td_size_kmeans  td_withinss_kmeans    id  \\\n",
       "0            30.0            5.660333  None   \n",
       "1            96.0          118.651875  None   \n",
       "2            24.0           18.547083  None   \n",
       "3             NaN                 NaN  None   \n",
       "4             NaN                 NaN  None   \n",
       "5             NaN                 NaN  None   \n",
       "6             NaN                 NaN  None   \n",
       "7             NaN                 NaN  None   \n",
       "8             NaN                 NaN  None   \n",
       "\n",
       "                     td_modelinfo_kmeans  \n",
       "0                                   None  \n",
       "1                                   None  \n",
       "2                                   None  \n",
       "3                       Converged : True  \n",
       "4               Number of Iterations : 4  \n",
       "5                 Number of Clusters : 3  \n",
       "6  Total_WithinSS : 1.42859291666663E+02  \n",
       "7      Between_SS : 5.37965108333333E+02  \n",
       "8   Method for InitialCentroids : Random  "
      ]
     },
     "execution_count": 27,
     "metadata": {},
     "output_type": "execute_result"
    }
   ],
   "source": [
    "df_model = KMeans_out.result.to_pandas()\n",
    "df_model"
   ]
  },
  {
   "cell_type": "code",
   "execution_count": 28,
   "id": "87e7ef9f-6d30-4217-8606-8794f4f8077d",
   "metadata": {},
   "outputs": [
    {
     "name": "stdout",
     "output_type": "stream",
     "text": [
      "[5.216666666666667, 6.314583333333334, 4.741666666666666] [1.4733333333333332, 4.973958333333333, 1.7541666666666664] [3.6399999999999997, 2.8958333333333335, 2.954166666666667]\n"
     ]
    }
   ],
   "source": [
    "x = list(df_model[df_model['sepal_length'].notnull()][\"sepal_length\"])\n",
    "y = list(df_model[df_model['petal_length'].notnull()][\"petal_length\"])\n",
    "z = list(df_model[df_model['sepal_width'].notnull()][\"sepal_width\"])\n",
    "print(x,y,z)"
   ]
  },
  {
   "cell_type": "code",
   "execution_count": 29,
   "id": "89f050bc-5153-43af-96c9-d0b38051f8f9",
   "metadata": {},
   "outputs": [
    {
     "data": {
      "image/png": "[encoded data removed]",
      "text/plain": [
       "<Figure size 640x480 with 1 Axes>"
      ]
     },
     "metadata": {},
     "output_type": "display_data"
    }
   ],
   "source": [
    "fig = plt.figure()\n",
    "ax = fig.add_subplot(projection='3d')\n",
    "ax.scatter(x, y, z)\n",
    "ax.set_xlabel('TotalQuantity')\n",
    "ax.set_ylabel('TotalPrice')\n",
    "ax.set_zlabel(r'TotalItems')\n",
    "plt.title('Centroids')\n",
    "\n",
    "plt.show()"
   ]
  },
  {
   "cell_type": "code",
   "execution_count": 30,
   "id": "14114369-4979-4b29-b915-6ff7f86e7bf9",
   "metadata": {},
   "outputs": [],
   "source": [
    "copy_to_sql(df = KMeans_out.result, table_name = 'k_means_model', if_exists='replace')"
   ]
  },
  {
   "cell_type": "code",
   "execution_count": 31,
   "id": "9c8d0cd5-2e73-41ec-bc94-20bd08ef8cec",
   "metadata": {},
   "outputs": [],
   "source": [
    "KMeansPredict_out = KMeansPredict(object=KMeans_out.result,\n",
    "                                      data=tdf)"
   ]
  },
  {
   "cell_type": "code",
   "execution_count": 32,
   "id": "ce696569-1578-439b-a6f2-c7d7a69f86e5",
   "metadata": {},
   "outputs": [
    {
     "data": {
      "text/html": [
       "<style type=\"text/css\">\n",
       "\ttable {border:ridge 5px;}\n",
       "\ttable td {border:inset 1px;}\n",
       "\ttable tr#HeaderRow {background-color:grey; color:white;}</style>\n",
       "<html><table>\n",
       "\t<tr id=\"HeaderRow\">\n",
       "\t\t<th>id</th>\n",
       "\t\t<th>td_clusterid_kmeans</th>\n",
       "\t</tr>\n",
       "\t<tr>\n",
       "\t\t<td>10</td>\n",
       "\t\t<td>2</td>\n",
       "\t</tr>\n",
       "\t<tr>\n",
       "\t\t<td>5</td>\n",
       "\t\t<td>0</td>\n",
       "\t</tr>\n",
       "\t<tr>\n",
       "\t\t<td>9</td>\n",
       "\t\t<td>2</td>\n",
       "\t</tr>\n",
       "\t<tr>\n",
       "\t\t<td>3</td>\n",
       "\t\t<td>2</td>\n",
       "\t</tr>\n",
       "\t<tr>\n",
       "\t\t<td>11</td>\n",
       "\t\t<td>0</td>\n",
       "\t</tr>\n",
       "\t<tr>\n",
       "\t\t<td>4</td>\n",
       "\t\t<td>2</td>\n",
       "\t</tr>\n",
       "\t<tr>\n",
       "\t\t<td>8</td>\n",
       "\t\t<td>0</td>\n",
       "\t</tr>\n",
       "\t<tr>\n",
       "\t\t<td>12</td>\n",
       "\t\t<td>2</td>\n",
       "\t</tr>\n",
       "\t<tr>\n",
       "\t\t<td>7</td>\n",
       "\t\t<td>2</td>\n",
       "\t</tr>\n",
       "\t<tr>\n",
       "\t\t<td>1</td>\n",
       "\t\t<td>0</td>\n",
       "\t</tr>\n",
       "</table></html>"
      ],
      "text/plain": [
       "   id  td_clusterid_kmeans\n",
       "0  10                    2\n",
       "1   5                    0\n",
       "2   9                    2\n",
       "3   3                    2\n",
       "4  11                    0\n",
       "5   4                    2\n",
       "6   8                    0\n",
       "7  12                    2\n",
       "8   7                    2\n",
       "9   1                    0"
      ]
     },
     "execution_count": 32,
     "metadata": {},
     "output_type": "execute_result"
    }
   ],
   "source": [
    "KMeansPredict_out.result"
   ]
  },
  {
   "cell_type": "code",
   "execution_count": 33,
   "id": "7188ed82-1388-49c8-bd18-065487ec5474",
   "metadata": {},
   "outputs": [],
   "source": [
    "tdf1 = tdf.join(other = KMeansPredict_out.result\n",
    "            , on = [\"id=id\"], how = \"inner\", lprefix = \"t1\")\n",
    "obj = Antiselect(data=tdf1,\n",
    "                     exclude=['t1_id'])"
   ]
  },
  {
   "cell_type": "code",
   "execution_count": 35,
   "id": "b9aafe90-bfba-4afb-8f63-75ed18af0c10",
   "metadata": {},
   "outputs": [
    {
     "data": {
      "text/html": [
       "<div>\n",
       "<style scoped>\n",
       "    .dataframe tbody tr th:only-of-type {\n",
       "        vertical-align: middle;\n",
       "    }\n",
       "\n",
       "    .dataframe tbody tr th {\n",
       "        vertical-align: top;\n",
       "    }\n",
       "\n",
       "    .dataframe thead th {\n",
       "        text-align: right;\n",
       "    }\n",
       "</style>\n",
       "<table border=\"1\" class=\"dataframe\">\n",
       "  <thead>\n",
       "    <tr style=\"text-align: right;\">\n",
       "      <th></th>\n",
       "      <th>id</th>\n",
       "      <th>sepal_length</th>\n",
       "      <th>sepal_width</th>\n",
       "      <th>petal_length</th>\n",
       "      <th>petal_width</th>\n",
       "      <th>species</th>\n",
       "      <th>td_clusterid_kmeans</th>\n",
       "    </tr>\n",
       "  </thead>\n",
       "  <tbody>\n",
       "    <tr>\n",
       "      <th>0</th>\n",
       "      <td>1</td>\n",
       "      <td>5.1</td>\n",
       "      <td>3.5</td>\n",
       "      <td>1.4</td>\n",
       "      <td>0.2</td>\n",
       "      <td>Iris-setosa</td>\n",
       "      <td>0</td>\n",
       "    </tr>\n",
       "    <tr>\n",
       "      <th>1</th>\n",
       "      <td>2</td>\n",
       "      <td>4.9</td>\n",
       "      <td>3.0</td>\n",
       "      <td>1.4</td>\n",
       "      <td>0.2</td>\n",
       "      <td>Iris-setosa</td>\n",
       "      <td>2</td>\n",
       "    </tr>\n",
       "    <tr>\n",
       "      <th>2</th>\n",
       "      <td>3</td>\n",
       "      <td>4.7</td>\n",
       "      <td>3.2</td>\n",
       "      <td>1.3</td>\n",
       "      <td>0.2</td>\n",
       "      <td>Iris-setosa</td>\n",
       "      <td>2</td>\n",
       "    </tr>\n",
       "    <tr>\n",
       "      <th>3</th>\n",
       "      <td>4</td>\n",
       "      <td>4.6</td>\n",
       "      <td>3.1</td>\n",
       "      <td>1.5</td>\n",
       "      <td>0.2</td>\n",
       "      <td>Iris-setosa</td>\n",
       "      <td>2</td>\n",
       "    </tr>\n",
       "    <tr>\n",
       "      <th>4</th>\n",
       "      <td>5</td>\n",
       "      <td>5.0</td>\n",
       "      <td>3.6</td>\n",
       "      <td>1.4</td>\n",
       "      <td>0.2</td>\n",
       "      <td>Iris-setosa</td>\n",
       "      <td>0</td>\n",
       "    </tr>\n",
       "    <tr>\n",
       "      <th>...</th>\n",
       "      <td>...</td>\n",
       "      <td>...</td>\n",
       "      <td>...</td>\n",
       "      <td>...</td>\n",
       "      <td>...</td>\n",
       "      <td>...</td>\n",
       "      <td>...</td>\n",
       "    </tr>\n",
       "    <tr>\n",
       "      <th>145</th>\n",
       "      <td>146</td>\n",
       "      <td>6.7</td>\n",
       "      <td>3.0</td>\n",
       "      <td>5.2</td>\n",
       "      <td>2.3</td>\n",
       "      <td>Iris-virginica</td>\n",
       "      <td>1</td>\n",
       "    </tr>\n",
       "    <tr>\n",
       "      <th>146</th>\n",
       "      <td>147</td>\n",
       "      <td>6.3</td>\n",
       "      <td>2.5</td>\n",
       "      <td>5.0</td>\n",
       "      <td>1.9</td>\n",
       "      <td>Iris-virginica</td>\n",
       "      <td>1</td>\n",
       "    </tr>\n",
       "    <tr>\n",
       "      <th>147</th>\n",
       "      <td>148</td>\n",
       "      <td>6.5</td>\n",
       "      <td>3.0</td>\n",
       "      <td>5.2</td>\n",
       "      <td>2.0</td>\n",
       "      <td>Iris-virginica</td>\n",
       "      <td>1</td>\n",
       "    </tr>\n",
       "    <tr>\n",
       "      <th>148</th>\n",
       "      <td>149</td>\n",
       "      <td>6.2</td>\n",
       "      <td>3.4</td>\n",
       "      <td>5.4</td>\n",
       "      <td>2.3</td>\n",
       "      <td>Iris-virginica</td>\n",
       "      <td>1</td>\n",
       "    </tr>\n",
       "    <tr>\n",
       "      <th>149</th>\n",
       "      <td>150</td>\n",
       "      <td>5.9</td>\n",
       "      <td>3.0</td>\n",
       "      <td>5.1</td>\n",
       "      <td>1.8</td>\n",
       "      <td>Iris-virginica</td>\n",
       "      <td>1</td>\n",
       "    </tr>\n",
       "  </tbody>\n",
       "</table>\n",
       "<p>150 rows × 7 columns</p>\n",
       "</div>"
      ],
      "text/plain": [
       "      id  sepal_length  sepal_width  petal_length  petal_width  \\\n",
       "0      1           5.1          3.5           1.4          0.2   \n",
       "1      2           4.9          3.0           1.4          0.2   \n",
       "2      3           4.7          3.2           1.3          0.2   \n",
       "3      4           4.6          3.1           1.5          0.2   \n",
       "4      5           5.0          3.6           1.4          0.2   \n",
       "..   ...           ...          ...           ...          ...   \n",
       "145  146           6.7          3.0           5.2          2.3   \n",
       "146  147           6.3          2.5           5.0          1.9   \n",
       "147  148           6.5          3.0           5.2          2.0   \n",
       "148  149           6.2          3.4           5.4          2.3   \n",
       "149  150           5.9          3.0           5.1          1.8   \n",
       "\n",
       "            species  td_clusterid_kmeans  \n",
       "0       Iris-setosa                    0  \n",
       "1       Iris-setosa                    2  \n",
       "2       Iris-setosa                    2  \n",
       "3       Iris-setosa                    2  \n",
       "4       Iris-setosa                    0  \n",
       "..              ...                  ...  \n",
       "145  Iris-virginica                    1  \n",
       "146  Iris-virginica                    1  \n",
       "147  Iris-virginica                    1  \n",
       "148  Iris-virginica                    1  \n",
       "149  Iris-virginica                    1  \n",
       "\n",
       "[150 rows x 7 columns]"
      ]
     },
     "execution_count": 35,
     "metadata": {},
     "output_type": "execute_result"
    }
   ],
   "source": [
    "df_kmeans_scored = obj.result.to_pandas()\n",
    "df_kmeans_scored"
   ]
  },
  {
   "cell_type": "code",
   "execution_count": 37,
   "id": "64b933fd-1404-48c2-bfa7-840e1d4401c0",
   "metadata": {},
   "outputs": [],
   "source": [
    "x = list(df_kmeans_scored[df_kmeans_scored['sepal_length'].notnull()][\"sepal_length\"])\n",
    "y = list(df_kmeans_scored[df_kmeans_scored['petal_length'].notnull()][\"petal_length\"])\n",
    "z = list(df_kmeans_scored[df_kmeans_scored['sepal_width'].notnull()][\"sepal_width\"])\n",
    "col = list(df_kmeans_scored[df_kmeans_scored['td_clusterid_kmeans'].notnull()][\"td_clusterid_kmeans\"])"
   ]
  },
  {
   "cell_type": "code",
   "execution_count": 38,
   "id": "daaf27bd-9fda-4694-ad90-71bc710f3725",
   "metadata": {},
   "outputs": [
    {
     "data": {
      "image/png": "[encoded data removed]",
      "text/plain": [
       "<Figure size 640x480 with 1 Axes>"
      ]
     },
     "metadata": {},
     "output_type": "display_data"
    }
   ],
   "source": [
    "fig = plt.figure()\n",
    "ax = fig.add_subplot(projection='3d')\n",
    "ax.scatter(x, y, z, c=col)\n",
    "ax.set_xlabel('sepal_length')\n",
    "ax.set_ylabel('petal_length')\n",
    "ax.set_zlabel('sepal_width')\n",
    "plt.title('Scored')\n",
    "\n",
    "plt.show()"
   ]
  },
  {
   "cell_type": "code",
   "execution_count": 49,
   "id": "ba5fbe1a-3b2f-42e4-9c77-5293ccdba305",
   "metadata": {
    "tags": []
   },
   "outputs": [
    {
     "data": {
      "text/plain": [
       "['id',\n",
       " 'sepal_length',\n",
       " 'sepal_width',\n",
       " 'petal_length',\n",
       " 'petal_width',\n",
       " 'species',\n",
       " 'td_clusterid_kmeans']"
      ]
     },
     "execution_count": 49,
     "metadata": {},
     "output_type": "execute_result"
    }
   ],
   "source": [
    "list(df_kmeans_scored)"
   ]
  },
  {
   "cell_type": "code",
   "execution_count": 71,
   "id": "15eda3d7-01df-4876-83f0-2bd627647640",
   "metadata": {
    "tags": []
   },
   "outputs": [
    {
     "data": {
      "text/plain": [
       "species          td_clusterid_kmeans\n",
       "Iris-setosa      0                      30\n",
       "                 2                      20\n",
       "Iris-versicolor  1                      46\n",
       "                 2                       4\n",
       "Iris-virginica   1                      50\n",
       "dtype: int64"
      ]
     },
     "execution_count": 71,
     "metadata": {},
     "output_type": "execute_result"
    }
   ],
   "source": [
    "df_cnt = df_kmeans_scored.groupby(['species','td_clusterid_kmeans']).size()\n",
    "df_cnt"
   ]
  },
  {
   "cell_type": "code",
   "execution_count": 80,
   "id": "8c0b3dc1-7193-473d-8864-d59f47bff9ac",
   "metadata": {
    "tags": []
   },
   "outputs": [],
   "source": [
    "#df_cnt[\"td_clusterid_kmeans\"]#          td_clusterid_kmeanstpe\n",
    "df_c = df_cnt.to_frame().reset_index()"
   ]
  },
  {
   "cell_type": "code",
   "execution_count": 89,
   "id": "886743c0-ad35-465f-86f2-284efd2e7466",
   "metadata": {
    "tags": []
   },
   "outputs": [],
   "source": [
    "df_c[\"cnt\"] = df_c[0]\n",
    "df_c = df_c.drop(columns=[0])"
   ]
  },
  {
   "cell_type": "code",
   "execution_count": 110,
   "id": "f54f15eb-5799-4ecd-8a6d-63ad4e675c1e",
   "metadata": {
    "tags": []
   },
   "outputs": [
    {
     "data": {
      "text/html": [
       "<div>\n",
       "<style scoped>\n",
       "    .dataframe tbody tr th:only-of-type {\n",
       "        vertical-align: middle;\n",
       "    }\n",
       "\n",
       "    .dataframe tbody tr th {\n",
       "        vertical-align: top;\n",
       "    }\n",
       "\n",
       "    .dataframe thead th {\n",
       "        text-align: right;\n",
       "    }\n",
       "</style>\n",
       "<table border=\"1\" class=\"dataframe\">\n",
       "  <thead>\n",
       "    <tr style=\"text-align: right;\">\n",
       "      <th></th>\n",
       "      <th>species</th>\n",
       "      <th>td_clusterid_kmeans</th>\n",
       "      <th>cnt</th>\n",
       "    </tr>\n",
       "  </thead>\n",
       "  <tbody>\n",
       "    <tr>\n",
       "      <th>0</th>\n",
       "      <td>Iris-setosa</td>\n",
       "      <td>0</td>\n",
       "      <td>30</td>\n",
       "    </tr>\n",
       "    <tr>\n",
       "      <th>1</th>\n",
       "      <td>Iris-setosa</td>\n",
       "      <td>2</td>\n",
       "      <td>20</td>\n",
       "    </tr>\n",
       "    <tr>\n",
       "      <th>2</th>\n",
       "      <td>Iris-versicolor</td>\n",
       "      <td>1</td>\n",
       "      <td>46</td>\n",
       "    </tr>\n",
       "    <tr>\n",
       "      <th>3</th>\n",
       "      <td>Iris-versicolor</td>\n",
       "      <td>2</td>\n",
       "      <td>4</td>\n",
       "    </tr>\n",
       "    <tr>\n",
       "      <th>4</th>\n",
       "      <td>Iris-virginica</td>\n",
       "      <td>1</td>\n",
       "      <td>50</td>\n",
       "    </tr>\n",
       "  </tbody>\n",
       "</table>\n",
       "</div>"
      ],
      "text/plain": [
       "           species  td_clusterid_kmeans  cnt\n",
       "0      Iris-setosa                    0   30\n",
       "1      Iris-setosa                    2   20\n",
       "2  Iris-versicolor                    1   46\n",
       "3  Iris-versicolor                    2    4\n",
       "4   Iris-virginica                    1   50"
      ]
     },
     "execution_count": 110,
     "metadata": {},
     "output_type": "execute_result"
    }
   ],
   "source": [
    "df_c"
   ]
  },
  {
   "cell_type": "code",
   "execution_count": 124,
   "id": "79f87d70-560a-4627-8af0-275c23352d56",
   "metadata": {
    "tags": []
   },
   "outputs": [
    {
     "data": {
      "text/plain": [
       "<Axes: xlabel='td_clusterid_kmeans', ylabel='cnt'>"
      ]
     },
     "execution_count": 124,
     "metadata": {},
     "output_type": "execute_result"
    },
    {
     "data": {
      "image/png": "[encoded data removed]",
      "text/plain": [
       "<Figure size 640x480 with 1 Axes>"
      ]
     },
     "metadata": {},
     "output_type": "display_data"
    }
   ],
   "source": [
    "\n",
    "import seaborn as sns\n",
    "#ax = df_c.plot.bar(x = 'td_clusterid_kmeans', y ='cnt', rot=0, hue)\n",
    "\n",
    "sns.barplot(x=df_c.td_clusterid_kmeans, y=df_c.cnt, hue = df_c.species)"
   ]
  },
  {
   "cell_type": "code",
   "execution_count": null,
   "id": "10d7712e-60dd-4c68-a403-9682e667ee66",
   "metadata": {},
   "outputs": [],
   "source": []
  }
 ],
 "metadata": {
  "kernelspec": {
   "display_name": "Python 3 (ipykernel)",
   "language": "python",
   "name": "python3"
  },
  "language_info": {
   "codemirror_mode": {
    "name": "ipython",
    "version": 3
   },
   "file_extension": ".py",
   "mimetype": "text/x-python",
   "name": "python",
   "nbconvert_exporter": "python",
   "pygments_lexer": "ipython3",
   "version": "3.11.5"
  }
 },
 "nbformat": 4,
 "nbformat_minor": 5
}
